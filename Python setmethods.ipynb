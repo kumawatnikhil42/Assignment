{
 "cells": [
  {
   "cell_type": "code",
   "execution_count": 8,
   "id": "2c879b00-3edd-4e7b-a1e4-94524b77d94f",
   "metadata": {},
   "outputs": [
    {
     "name": "stdout",
     "output_type": "stream",
     "text": [
      "{1, 2, 3, 4, 5, 6}\n"
     ]
    }
   ],
   "source": [
    "myset=set({1,2,3,4,5})\n",
    "myset.add(6)\n",
    "print(myset)\n"
   ]
  },
  {
   "cell_type": "code",
   "execution_count": 26,
   "id": "dc0e6f79-9680-4ddd-8984-07832ec2c8ba",
   "metadata": {},
   "outputs": [
    {
     "name": "stdout",
     "output_type": "stream",
     "text": [
      "{2, 3, 4, 5, 6, 7, 8, 9}\n",
      "{2, 3, 4, 5, 6, 7, 8}\n"
     ]
    }
   ],
   "source": [
    "myset2=set({6,7,8,9})\n",
    "myset.update(myset2)\n",
    "print(myset)\n",
    "myset.remove(9)\n",
    "print(myset)\n",
    "\n"
   ]
  },
  {
   "cell_type": "code",
   "execution_count": 27,
   "id": "b1ed315d-1a58-4314-bbd4-046f03e1043b",
   "metadata": {},
   "outputs": [
    {
     "name": "stdout",
     "output_type": "stream",
     "text": [
      "set()\n"
     ]
    }
   ],
   "source": [
    "myset.clear()\n",
    "print(myset)"
   ]
  },
  {
   "cell_type": "code",
   "execution_count": 31,
   "id": "e8e7a48c-8730-4514-af03-451a6fa0f98c",
   "metadata": {},
   "outputs": [
    {
     "name": "stdout",
     "output_type": "stream",
     "text": [
      "{1, 2, 3, 4, 5}\n"
     ]
    }
   ],
   "source": [
    "myset1=set({1,2,3,4,5})\n",
    "myset2=set({5,6,7,8,9})\n",
    "myset3=myset1.copy()\n",
    "print(myset3)"
   ]
  },
  {
   "cell_type": "code",
   "execution_count": 32,
   "id": "e8845547-5bb2-45be-8d19-85dde4a30c5a",
   "metadata": {},
   "outputs": [
    {
     "name": "stdout",
     "output_type": "stream",
     "text": [
      "{1, 2, 3, 4}\n"
     ]
    }
   ],
   "source": [
    "print(myset1.difference(myset2))"
   ]
  },
  {
   "cell_type": "code",
   "execution_count": 33,
   "id": "eff657fa-7ae1-417c-98ca-9b72d49dd548",
   "metadata": {},
   "outputs": [
    {
     "name": "stdout",
     "output_type": "stream",
     "text": [
      "{1, 2, 3, 4}\n"
     ]
    }
   ],
   "source": [
    "myset3.difference_update(myset2)\n",
    "print(myset3)"
   ]
  },
  {
   "cell_type": "code",
   "execution_count": 34,
   "id": "4c91faae-3169-474e-8dfe-29379760203e",
   "metadata": {},
   "outputs": [
    {
     "name": "stdout",
     "output_type": "stream",
     "text": [
      "{2, 3, 4}\n"
     ]
    }
   ],
   "source": [
    "myset3.discard(1)\n",
    "print(myset3)"
   ]
  },
  {
   "cell_type": "code",
   "execution_count": 42,
   "id": "e591b680-914c-424c-9b99-ecc67b054def",
   "metadata": {},
   "outputs": [
    {
     "name": "stdout",
     "output_type": "stream",
     "text": [
      "{2, 3, 4}\n"
     ]
    }
   ],
   "source": [
    "print(myset3.intersection(myset1))"
   ]
  },
  {
   "cell_type": "code",
   "execution_count": 56,
   "id": "841dcdd2-065d-4b72-ab73-06fae40d4e80",
   "metadata": {},
   "outputs": [
    {
     "name": "stdout",
     "output_type": "stream",
     "text": [
      "{4}\n"
     ]
    }
   ],
   "source": [
    "myset3.intersection_update(myset1)\n",
    "print(myset3)"
   ]
  },
  {
   "cell_type": "code",
   "execution_count": 57,
   "id": "6a2d2a7b-c935-4d8f-8565-6c9afdb4f102",
   "metadata": {},
   "outputs": [
    {
     "name": "stdout",
     "output_type": "stream",
     "text": [
      "False\n",
      "True\n"
     ]
    }
   ],
   "source": [
    "print(myset3.isdisjoint(myset1))\n",
    "print(myset3.isdisjoint(myset2))"
   ]
  },
  {
   "cell_type": "code",
   "execution_count": 58,
   "id": "597b8c6d-3709-491b-b137-23f8844628f7",
   "metadata": {},
   "outputs": [
    {
     "name": "stdout",
     "output_type": "stream",
     "text": [
      "True\n",
      "False\n"
     ]
    }
   ],
   "source": [
    "print(myset3.issubset(myset1))\n",
    "print(myset1.issubset(myset3))"
   ]
  },
  {
   "cell_type": "code",
   "execution_count": 59,
   "id": "95e7f14b-6ec7-46cb-9393-45ad766c0457",
   "metadata": {},
   "outputs": [
    {
     "name": "stdout",
     "output_type": "stream",
     "text": [
      "True\n",
      "False\n"
     ]
    }
   ],
   "source": [
    "print(myset1.issuperset(myset3))\n",
    "print(myset3.issuperset(myset1))"
   ]
  },
  {
   "cell_type": "code",
   "execution_count": 62,
   "id": "6ff2087d-dade-4621-b6e1-7ee64924171a",
   "metadata": {},
   "outputs": [
    {
     "name": "stdout",
     "output_type": "stream",
     "text": [
      "1\n",
      "{2, 3, 4, 5, 6, 7}\n"
     ]
    }
   ],
   "source": [
    "myset4=set({1,3,5,6,7})\n",
    "myset5=set({1,2,3,4,5,6,7})\n",
    "print(myset5.pop())\n",
    "print(myset5)"
   ]
  },
  {
   "cell_type": "code",
   "execution_count": 64,
   "id": "3b652015-82e5-4db7-8503-9e0a49b7a995",
   "metadata": {},
   "outputs": [
    {
     "name": "stdout",
     "output_type": "stream",
     "text": [
      "{1, 2, 4}\n"
     ]
    }
   ],
   "source": [
    "print(myset4.symmetric_difference(myset5))\n"
   ]
  },
  {
   "cell_type": "code",
   "execution_count": 65,
   "id": "9fd55b0a-703b-453c-828f-fc9ff8326919",
   "metadata": {},
   "outputs": [
    {
     "name": "stdout",
     "output_type": "stream",
     "text": [
      "{1, 2, 4}\n"
     ]
    }
   ],
   "source": [
    "myset4.symmetric_difference_update(myset5)\n",
    "print(myset4)"
   ]
  },
  {
   "cell_type": "code",
   "execution_count": 66,
   "id": "d3b6cd5d-ec61-45bf-97f9-9db57f6f12a8",
   "metadata": {},
   "outputs": [
    {
     "name": "stdout",
     "output_type": "stream",
     "text": [
      "{1, 2, 3, 4, 5, 6, 7}\n"
     ]
    }
   ],
   "source": [
    "print(myset4.union(myset5))"
   ]
  },
  {
   "cell_type": "code",
   "execution_count": null,
   "id": "507f658b-ad18-425a-ad5e-6d4589fbdec0",
   "metadata": {},
   "outputs": [],
   "source": []
  }
 ],
 "metadata": {
  "kernelspec": {
   "display_name": "Python 3 (ipykernel)",
   "language": "python",
   "name": "python3"
  },
  "language_info": {
   "codemirror_mode": {
    "name": "ipython",
    "version": 3
   },
   "file_extension": ".py",
   "mimetype": "text/x-python",
   "name": "python",
   "nbconvert_exporter": "python",
   "pygments_lexer": "ipython3",
   "version": "3.10.11"
  }
 },
 "nbformat": 4,
 "nbformat_minor": 5
}
